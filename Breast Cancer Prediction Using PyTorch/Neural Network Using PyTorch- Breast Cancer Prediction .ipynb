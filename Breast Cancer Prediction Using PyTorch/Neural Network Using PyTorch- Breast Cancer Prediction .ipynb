{
 "cells": [
  {
   "cell_type": "code",
   "execution_count": 1,
   "id": "c5820c90-0ee2-44a7-bafa-15dbf23d8fba",
   "metadata": {},
   "outputs": [],
   "source": [
    "# Importing the dependencies "
   ]
  },
  {
   "cell_type": "code",
   "execution_count": 1,
   "id": "044df74d-138d-43e6-bde1-04aebf4db569",
   "metadata": {},
   "outputs": [],
   "source": [
    "import torch\n",
    "import torch.nn as nn\n",
    "import torch.optim as optim \n",
    "from sklearn.datasets import load_breast_cancer\n",
    "from sklearn.model_selection import train_test_split\n",
    "from sklearn.preprocessing import StandardScaler"
   ]
  },
  {
   "cell_type": "code",
   "execution_count": 3,
   "id": "f30a46a9-f2ec-4b00-8361-62b1a68c11e7",
   "metadata": {},
   "outputs": [],
   "source": [
    "# Device configuration"
   ]
  },
  {
   "cell_type": "code",
   "execution_count": 5,
   "id": "9351f631-6b14-45ef-97d2-9337af9e2c95",
   "metadata": {},
   "outputs": [
    {
     "name": "stdout",
     "output_type": "stream",
     "text": [
      "Using device: cpu\n"
     ]
    }
   ],
   "source": [
    "# check cpu availability\n",
    "device = torch.device(\"cuda\" if torch.cuda.is_available() else \"cpu\")\n",
    "print(f\"Using device: {device}\")"
   ]
  },
  {
   "cell_type": "code",
   "execution_count": 7,
   "id": "507243ef-c13c-46b2-b5b0-e0053629cc9c",
   "metadata": {},
   "outputs": [],
   "source": [
    "# Data collection and preprocessing "
   ]
  },
  {
   "cell_type": "code",
   "execution_count": 58,
   "id": "169ce4e4-40e1-43d5-82a8-030aee3bbc99",
   "metadata": {},
   "outputs": [],
   "source": [
    "# load the breast cancer dataset \n",
    "data = load_breast_cancer()\n",
    "X = data.data\n",
    "Y = data.target"
   ]
  },
  {
   "cell_type": "code",
   "execution_count": 60,
   "id": "987a2c68-9e9c-43f9-aa42-40131354f077",
   "metadata": {},
   "outputs": [
    {
     "name": "stdout",
     "output_type": "stream",
     "text": [
      "[[1.799e+01 1.038e+01 1.228e+02 ... 2.654e-01 4.601e-01 1.189e-01]\n",
      " [2.057e+01 1.777e+01 1.329e+02 ... 1.860e-01 2.750e-01 8.902e-02]\n",
      " [1.969e+01 2.125e+01 1.300e+02 ... 2.430e-01 3.613e-01 8.758e-02]\n",
      " ...\n",
      " [1.660e+01 2.808e+01 1.083e+02 ... 1.418e-01 2.218e-01 7.820e-02]\n",
      " [2.060e+01 2.933e+01 1.401e+02 ... 2.650e-01 4.087e-01 1.240e-01]\n",
      " [7.760e+00 2.454e+01 4.792e+01 ... 0.000e+00 2.871e-01 7.039e-02]]\n"
     ]
    }
   ],
   "source": [
    "print(X)\n"
   ]
  },
  {
   "cell_type": "code",
   "execution_count": 62,
   "id": "a55e29dc-d8d6-4ae1-87e7-f02375344245",
   "metadata": {},
   "outputs": [],
   "source": [
    "# split the dataset in to train and test"
   ]
  },
  {
   "cell_type": "code",
   "execution_count": 64,
   "id": "cf4eef9f-587e-4eba-b1eb-6ec335058c00",
   "metadata": {},
   "outputs": [],
   "source": [
    "X_train, X_test, Y_train, Y_test = train_test_split(X, y, test_size=0.2, random_state=42)"
   ]
  },
  {
   "cell_type": "code",
   "execution_count": 66,
   "id": "db38a8d1-38cb-4d73-944e-2df8a6221d7f",
   "metadata": {},
   "outputs": [
    {
     "name": "stdout",
     "output_type": "stream",
     "text": [
      "(569, 30)\n",
      "(455, 30)\n",
      "(114, 30)\n"
     ]
    }
   ],
   "source": [
    "print(X.shape)\n",
    "print(X_train.shape)\n",
    "print(X_test.shape)"
   ]
  },
  {
   "cell_type": "code",
   "execution_count": 74,
   "id": "d48c2c27-d616-42bb-8e39-971782cbe1c5",
   "metadata": {},
   "outputs": [],
   "source": [
    "# standardize the data using Standard sclaer\n",
    "scaler = StandardScaler()\n",
    "\n",
    "X_train = scaler.fit_transform(X_train)\n",
    "X_test = scaler.transform(X_test)"
   ]
  },
  {
   "cell_type": "code",
   "execution_count": 76,
   "id": "054bf0db-a455-4e05-8deb-be87c19c1ff4",
   "metadata": {},
   "outputs": [
    {
     "name": "stdout",
     "output_type": "stream",
     "text": [
      "X_train shape: (455, 30)\n",
      "Y_train shape: (455,)\n"
     ]
    }
   ],
   "source": [
    "# Check the shapes of the datasets\n",
    "print(f\"X_train shape: {X_train.shape}\")\n",
    "print(f\"Y_train shape: {Y_train.shape}\")"
   ]
  },
  {
   "cell_type": "code",
   "execution_count": 78,
   "id": "fd97726a-70ff-476a-a0fc-454794166557",
   "metadata": {},
   "outputs": [
    {
     "data": {
      "text/plain": [
       "numpy.ndarray"
      ]
     },
     "execution_count": 78,
     "metadata": {},
     "output_type": "execute_result"
    }
   ],
   "source": [
    "type(X_train)"
   ]
  },
  {
   "cell_type": "code",
   "execution_count": 80,
   "id": "9b717449-ce45-4881-8f69-ee124fd9f682",
   "metadata": {},
   "outputs": [
    {
     "data": {
      "text/plain": [
       "numpy.ndarray"
      ]
     },
     "execution_count": 80,
     "metadata": {},
     "output_type": "execute_result"
    }
   ],
   "source": [
    "type(X_test)"
   ]
  },
  {
   "cell_type": "code",
   "execution_count": 82,
   "id": "736ed817-65e0-4bfb-933c-cb96e3bd023c",
   "metadata": {},
   "outputs": [],
   "source": [
    "# convert data to Pytorch tensors and move it to GPU\n",
    "X_train = torch.tensor(X_train, dtype=torch.float32).to(device)\n",
    "Y_train = torch.tensor(Y_train, dtype=torch.float32).to(device)\n",
    "X_test = torch.tensor(X_test, dtype=torch.float32).to(device)\n",
    "Y_test = torch.tensor(Y_test, dtype=torch.float32).to(device)"
   ]
  },
  {
   "cell_type": "code",
   "execution_count": 84,
   "id": "a532d396-7912-455d-8db1-cd9f4e5e5de9",
   "metadata": {},
   "outputs": [],
   "source": [
    "# Neural Network Architecture "
   ]
  },
  {
   "cell_type": "code",
   "execution_count": 86,
   "id": "7aea99ac-70ad-4009-99d6-49a66d90707f",
   "metadata": {},
   "outputs": [],
   "source": [
    "# define the neaural network architecture \n",
    "\n",
    "class NeuralNet(nn.Module): \n",
    "    def __init__(self, input_size, hidden_size, output_size):\n",
    "        super(NeuralNet, self).__init__()\n",
    "        self.fc1 =nn.Linear(input_size, hidden_size)\n",
    "        self.relu = nn.ReLU()\n",
    "        self.fc2 = nn.Linear(hidden_size, output_size)\n",
    "        self.sigmoid = nn.Sigmoid()\n",
    "        \n",
    "    def forward(self, x):\n",
    "        out = self.fc1(x)\n",
    "        out = self.relu(out)\n",
    "        out = self.fc2(out)\n",
    "        out = self.sigmoid(out)\n",
    "        return out"
   ]
  },
  {
   "cell_type": "code",
   "execution_count": 88,
   "id": "dc153674-703f-44d5-9067-2319f16e1282",
   "metadata": {},
   "outputs": [],
   "source": [
    "# define hyperparameters\n",
    "\n",
    "input_size = X_train.shape[1]\n",
    "hidden_size = 64\n",
    "output_size = 1\n",
    "learning_rate = 0.001\n",
    "num_epochs = 100\n",
    "\n"
   ]
  },
  {
   "cell_type": "code",
   "execution_count": 90,
   "id": "f384814c-6cb4-44d8-b6e6-78191ee0c621",
   "metadata": {},
   "outputs": [],
   "source": [
    "# Initialization the neaural network and move it the GPU\n",
    "\n",
    "model = NeuralNet(input_size, hidden_size, output_size).to(device)"
   ]
  },
  {
   "cell_type": "code",
   "execution_count": 92,
   "id": "7b98e68d-0f65-473b-9442-4c27b484ecf0",
   "metadata": {},
   "outputs": [],
   "source": [
    "# define loss and the optimizer\n",
    "criterion = nn.BCELoss()\n",
    "optimizer = optim.Adam(model.parameters(), lr=learning_rate)"
   ]
  },
  {
   "cell_type": "code",
   "execution_count": 94,
   "id": "ec82cf12-5538-4bd7-84c5-ed8e991285d5",
   "metadata": {},
   "outputs": [],
   "source": [
    "#Training the Neural Network"
   ]
  },
  {
   "cell_type": "code",
   "execution_count": 100,
   "id": "d63cd7f4-c17a-4675-811c-54d36596c016",
   "metadata": {},
   "outputs": [
    {
     "name": "stdout",
     "output_type": "stream",
     "text": [
      "Epoch [10/100], Loss : 0.5500, Accuracy: 89.01%\n",
      "Epoch [20/100], Loss : 0.4327, Accuracy: 92.53%\n",
      "Epoch [30/100], Loss : 0.3416, Accuracy: 94.51%\n",
      "Epoch [40/100], Loss : 0.2724, Accuracy: 94.95%\n",
      "Epoch [50/100], Loss : 0.2225, Accuracy: 95.38%\n",
      "Epoch [60/100], Loss : 0.1874, Accuracy: 95.82%\n",
      "Epoch [70/100], Loss : 0.1623, Accuracy: 96.26%\n",
      "Epoch [80/100], Loss : 0.1438, Accuracy: 96.70%\n",
      "Epoch [90/100], Loss : 0.1296, Accuracy: 97.14%\n",
      "Epoch [100/100], Loss : 0.1181, Accuracy: 97.36%\n"
     ]
    }
   ],
   "source": [
    "# training the model\n",
    "for epoch in range(num_epochs):\n",
    "  model.train()\n",
    "  optimizer.zero_grad()\n",
    "  outputs = model(X_train)\n",
    "  loss = criterion(outputs, Y_train.view(-1,1))\n",
    "  loss.backward()\n",
    "  optimizer.step()\n",
    "\n",
    "  # claculate accuracy\n",
    "  with torch.no_grad():\n",
    "    predicted = outputs.round()\n",
    "    correct = (predicted == Y_train.view(-1,1)).float().sum()\n",
    "    accuracy = correct/Y_train.size(0)\n",
    "\n",
    "  if (epoch+1) % 10 == 0:\n",
    "    print(f\"Epoch [{epoch+1}/{num_epochs}], Loss : {loss.item():.4f}, Accuracy: {accuracy.item() * 100:.2f}%\")"
   ]
  },
  {
   "cell_type": "code",
   "execution_count": 102,
   "id": "926e4d36-da17-4c79-ad30-62f933634200",
   "metadata": {},
   "outputs": [],
   "source": [
    "# Model Evaluation"
   ]
  },
  {
   "cell_type": "code",
   "execution_count": 108,
   "id": "afcc3936-24c2-4f09-8a0b-65dd0d187b00",
   "metadata": {},
   "outputs": [
    {
     "name": "stdout",
     "output_type": "stream",
     "text": [
      "Accuracy on training data: 97.36%\n"
     ]
    }
   ],
   "source": [
    "# evaluation on training set\n",
    "model.eval()\n",
    "with torch.no_grad():\n",
    "  outputs = model(X_train)\n",
    "  predicted = outputs.round()\n",
    "  correct = (predicted == Y_train.view(-1,1)).float().sum()\n",
    "  accuracy = correct/Y_train.size(0)\n",
    "  print(f\"Accuracy on training data: {accuracy.item() * 100:.2f}%\")"
   ]
  },
  {
   "cell_type": "code",
   "execution_count": 110,
   "id": "1108ec3d-a80e-491f-bd02-ffe5d1c19650",
   "metadata": {},
   "outputs": [
    {
     "name": "stdout",
     "output_type": "stream",
     "text": [
      "Accuracy on test data: 98.25%\n"
     ]
    }
   ],
   "source": [
    "# evaluation on test set\n",
    "model.eval()\n",
    "with torch.no_grad():\n",
    "  outputs = model(X_test)\n",
    "  predicted = outputs.round()\n",
    "  correct = (predicted == Y_test.view(-1,1)).float().sum()\n",
    "  accuracy = correct/Y_test.size(0)\n",
    "  print(f\"Accuracy on test data: {accuracy.item() * 100:.2f}%\")"
   ]
  },
  {
   "cell_type": "code",
   "execution_count": null,
   "id": "04655033-bb0c-418a-8d91-28903391347f",
   "metadata": {},
   "outputs": [],
   "source": []
  }
 ],
 "metadata": {
  "kernelspec": {
   "display_name": "Python [conda env:base] *",
   "language": "python",
   "name": "conda-base-py"
  },
  "language_info": {
   "codemirror_mode": {
    "name": "ipython",
    "version": 3
   },
   "file_extension": ".py",
   "mimetype": "text/x-python",
   "name": "python",
   "nbconvert_exporter": "python",
   "pygments_lexer": "ipython3",
   "version": "3.12.7"
  }
 },
 "nbformat": 4,
 "nbformat_minor": 5
}
